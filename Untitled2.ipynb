{
  "nbformat": 4,
  "nbformat_minor": 0,
  "metadata": {
    "colab": {
      "provenance": [],
      "authorship_tag": "ABX9TyMTPl1oL0MJu47eRdckJe/+",
      "include_colab_link": true
    },
    "kernelspec": {
      "name": "python3",
      "display_name": "Python 3"
    },
    "language_info": {
      "name": "python"
    }
  },
  "cells": [
    {
      "cell_type": "markdown",
      "metadata": {
        "id": "view-in-github",
        "colab_type": "text"
      },
      "source": [
        "<a href=\"https://colab.research.google.com/github/divyansh2380/Case-Study4/blob/main/Untitled2.ipynb\" target=\"_parent\"><img src=\"https://colab.research.google.com/assets/colab-badge.svg\" alt=\"Open In Colab\"/></a>"
      ]
    },
    {
      "cell_type": "code",
      "execution_count": null,
      "metadata": {
        "colab": {
          "base_uri": "https://localhost:8080/"
        },
        "id": "BG2EkYJsnZ8A",
        "outputId": "51f97687-8480-4685-d316-a05fd542c354"
      },
      "outputs": [
        {
          "output_type": "stream",
          "name": "stdout",
          "text": [
            "Welcome to Tic Tac Toe!\n",
            "\n",
            "\n",
            "  |   |  \n",
            "---------\n",
            "  |   |  \n",
            "---------\n",
            "  |   |  \n",
            "\n",
            "\n",
            "Player X, enter your move as row,col (0-2): 1\n",
            "Invalid format. Use row,col (e.g., 1,2).\n",
            "Player X, enter your move as row,col (0-2): 2\n",
            "Invalid format. Use row,col (e.g., 1,2).\n",
            "Player X, enter your move as row,col (0-2): 3\n",
            "Invalid format. Use row,col (e.g., 1,2).\n",
            "Player X, enter your move as row,col (0-2): 1\n",
            "Invalid format. Use row,col (e.g., 1,2).\n",
            "Player X, enter your move as row,col (0-2): 0\n",
            "Invalid format. Use row,col (e.g., 1,2).\n",
            "Player X, enter your move as row,col (0-2): 1\n",
            "Invalid format. Use row,col (e.g., 1,2).\n",
            "Player X, enter your move as row,col (0-2): 2\n",
            "Invalid format. Use row,col (e.g., 1,2).\n",
            "Player X, enter your move as row,col (0-2): 1\n",
            "Invalid format. Use row,col (e.g., 1,2).\n",
            "Player X, enter your move as row,col (0-2): 1\n",
            "Invalid format. Use row,col (e.g., 1,2).\n",
            "Player X, enter your move as row,col (0-2): 2\n",
            "Invalid format. Use row,col (e.g., 1,2).\n",
            "Player X, enter your move as row,col (0-2): 2\n",
            "Invalid format. Use row,col (e.g., 1,2).\n",
            "Player X, enter your move as row,col (0-2): 2\n",
            "Invalid format. Use row,col (e.g., 1,2).\n",
            "Player X, enter your move as row,col (0-2): \n",
            "Invalid format. Use row,col (e.g., 1,2).\n",
            "Player X, enter your move as row,col (0-2): \n",
            "Invalid format. Use row,col (e.g., 1,2).\n",
            "Player X, enter your move as row,col (0-2): \n",
            "Invalid format. Use row,col (e.g., 1,2).\n",
            "Player X, enter your move as row,col (0-2): \n",
            "Invalid format. Use row,col (e.g., 1,2).\n",
            "Player X, enter your move as row,col (0-2): \n",
            "Invalid format. Use row,col (e.g., 1,2).\n"
          ]
        }
      ],
      "source": [
        "def print_board(board):\n",
        "    print(\"\\n\")\n",
        "    for i, row in enumerate(board):\n",
        "        print(\" | \".join(row))\n",
        "        if i < 2:  # Only print separator for first two rows\n",
        "            print(\"-\" * 9)\n",
        "    print(\"\\n\")\n",
        "\n",
        "\n",
        "def check_win(board, player):\n",
        "    # Check rows\n",
        "    for row in board:\n",
        "        if all(cell == player for cell in row):\n",
        "            return True\n",
        "    # Check columns\n",
        "    for col in range(3):\n",
        "        if all(board[row][col] == player for row in range(3)):\n",
        "            return True\n",
        "    # Check diagonals\n",
        "    if all(board[i][i] == player for i in range(3)) or \\\n",
        "       all(board[i][2 - i] == player for i in range(3)):\n",
        "        return True\n",
        "    return False\n",
        "\n",
        "\n",
        "def check_draw(board):\n",
        "    return all(cell in ['X', 'O'] for row in board for cell in row)\n",
        "\n",
        "\n",
        "def get_move(player):\n",
        "    while True:\n",
        "        try:\n",
        "            move = input(f\"Player {player}, enter your move as row,col (0-2): \")\n",
        "            row, col = map(int, move.split(\",\"))\n",
        "            if row in range(3) and col in range(3):\n",
        "                return row, col\n",
        "            else:\n",
        "                print(\"Invalid input. Please enter numbers between 0 and 2.\")\n",
        "        except ValueError:\n",
        "            print(\"Invalid format. Use row,col (e.g., 1,2).\")\n",
        "\n",
        "\n",
        "def main():\n",
        "    board = [[\" \" for _ in range(3)] for _ in range(3)]\n",
        "    current_player = \"X\"\n",
        "    print(\"Welcome to Tic Tac Toe!\")\n",
        "    print_board(board)\n",
        "\n",
        "    while True:\n",
        "        row, col = get_move(current_player)\n",
        "        if board[row][col] == \" \":\n",
        "            board[row][col] = current_player\n",
        "            print_board(board)\n",
        "\n",
        "            if check_win(board, current_player):\n",
        "                print(f\"🎉 Player {current_player} wins!\")\n",
        "                break\n",
        "            elif check_draw(board):\n",
        "                print(\"It's a draw!\")\n",
        "                break\n",
        "\n",
        "            current_player = \"O\" if current_player == \"X\" else \"X\"\n",
        "        else:\n",
        "            print(\"That spot is already taken. Try again.\")\n",
        "\n",
        "\n",
        "if __name__ == \"__main__\":\n",
        "    main()22222"
      ]
    }
  ]
}